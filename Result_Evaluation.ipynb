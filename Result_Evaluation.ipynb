{
 "cells": [
  {
   "cell_type": "code",
   "execution_count": 2,
   "id": "adee22b3-f691-4117-8157-02fd89304e10",
   "metadata": {},
   "outputs": [
    {
     "name": "stdout",
     "output_type": "stream",
     "text": [
      "Looking in indexes: https://pypi.org/simple, https://pypi.ngc.nvidia.com\n",
      "Requirement already satisfied: biopython in /opt/conda/lib/python3.12/site-packages (1.85)\n",
      "Requirement already satisfied: tqdm-joblib in /opt/conda/lib/python3.12/site-packages (0.0.5)\n",
      "Requirement already satisfied: numpy in /opt/conda/lib/python3.12/site-packages (from biopython) (2.0.2)\n",
      "Requirement already satisfied: tqdm in /opt/conda/lib/python3.12/site-packages (from tqdm-joblib) (4.67.1)\n"
     ]
    }
   ],
   "source": [
    "!pip install biopython tqdm-joblib"
   ]
  },
  {
   "cell_type": "code",
   "execution_count": 7,
   "id": "a226b729",
   "metadata": {},
   "outputs": [
    {
     "name": "stdout",
     "output_type": "stream",
     "text": [
      "Using device: cuda\n",
      "\n",
      "Generation complete!\n",
      "Found 5294 valid sequences out of 6150 generated\n",
      "Sequences saved in: /files/private/notebooks/GANs/WUGAN/campr4/valid_sequences.fasta\n",
      "Analysis saved in: /files/private/notebooks/GANs/WUGAN/campr4/sequence_analysis.txt\n",
      "Converted 5062 DNA sequences to proteins\n",
      "Protein sequences saved in: /files/private/notebooks/GANs/WUGAN/campr4/valid_sequences_proteins.fasta\n"
     ]
    }
   ],
   "source": [
    "import torch\n",
    "from sequence_generator import generate_and_filter_sequences, convert_dna_fasta_to_protein\n",
    "from models import Generator_lang\n",
    "\n",
    "device = 'cuda' if torch.cuda.is_available() else 'cpu'\n",
    "print(f\"Using device: {device}\")\n",
    "\n",
    "n_chars = 5                                                                                 \n",
    "seq_len = 156\n",
    "batch_size = 64\n",
    "hidden_g = 192\n",
    "\n",
    "# Initialize models\n",
    "generator = Generator_lang(n_chars, seq_len, batch_size, hidden_g).to(device)\n",
    "\n",
    "saved_model_path = r\"/files/private/notebooks/GANs/WUGAN/saved_models2/best_amp/generator_amp_5_epoch_119_score_45.31.pt\"\n",
    "\n",
    "checkpoint = torch.load(saved_model_path, map_location=device)\n",
    "\n",
    "generator.load_state_dict(checkpoint['model_state_dict'])  # Note: 'model_state_dict' not the whole checkpoint\n",
    "generator.eval()\n",
    "\n",
    "sequences, analysis, dna_file = generate_and_filter_sequences(\n",
    "        generator=generator,\n",
    "        num_samples=11270-8*640,\n",
    "        count_atg=False,\n",
    "        add_atg=False\n",
    "   )\n",
    "\n",
    "# Generate sequences and convert to proteins in one go\n",
    "num_proteins, protein_file = convert_dna_fasta_to_protein(input_fasta=dna_file, add_atg=False)"
   ]
  },
  {
   "cell_type": "code",
   "execution_count": 9,
   "id": "8e844e68-9789-4a76-9d0e-f4cb8dde6827",
   "metadata": {},
   "outputs": [
    {
     "name": "stdout",
     "output_type": "stream",
     "text": [
      "Percentage above 0.5 (Random Forest): 63.99%\n",
      "Percentage above 0.8 (Random Forest): 23.40%\n",
      "Percentage above 0.5 (SVM): 57.51%\n",
      "Percentage above 0.8 (SVM): 32.18%\n",
      "Percentage above 0.5 (ANN): 58.95%\n",
      "Percentage above 0.8 (ANN): 37.47%\n",
      "\n",
      "Averages across all models:\n",
      "Average percentage above 0.5: 60.15%\n",
      "Average percentage above 0.8: 31.02%\n"
     ]
    }
   ],
   "source": [
    "from analyze_amp_probabilities import calculate_averages\n",
    "\n",
    "# Actual usage example\n",
    "files = [\n",
    "    \"/files/private/notebooks/GANs/WUGAN/campr4/rf1.txt\",\n",
    "    \"/files/private/notebooks/GANs/WUGAN/campr4/svm1.txt\",\n",
    "    \"/files/private/notebooks/GANs/WUGAN/campr4/ann1.txt\"\n",
    "]\n",
    "\n",
    "model_types = [\n",
    "\"Random Forest\",\n",
    "\"SVM\",\n",
    "\"ANN\"\n",
    "]\n",
    "\n",
    "calculate_averages(files, model_types)"
   ]
  },
  {
   "cell_type": "code",
   "execution_count": 17,
   "id": "e2ea7994-f688-4691-aae5-f1ba98c332e2",
   "metadata": {},
   "outputs": [
    {
     "name": "stdout",
     "output_type": "stream",
     "text": [
      "Analyzing 5089 sequences on all cores...\n"
     ]
    },
    {
     "name": "stderr",
     "output_type": "stream",
     "text": [
      "Alignments:   0%|          | 0/12905740 [15:43<?, ?it/s]\n",
      "Exception ignored in: <bound method IPythonKernel._clean_thread_parent_frames of <ipykernel.ipkernel.IPythonKernel object at 0x7b2f830ddd30>>\n",
      "Traceback (most recent call last):\n",
      "  File \"/opt/conda/lib/python3.12/site-packages/ipykernel/ipkernel.py\", line 775, in _clean_thread_parent_frames\n",
      "    def _clean_thread_parent_frames(\n",
      "\n",
      "KeyboardInterrupt: \n",
      "Alignments:   0%|          | 0/12946416 [00:00<?, ?it/s]"
     ]
    },
    {
     "data": {
      "application/vnd.jupyter.widget-view+json": {
       "model_id": "5e8cc9f5f06b4f518310bffa37cfa156",
       "version_major": 2,
       "version_minor": 0
      },
      "text/plain": [
       "  0%|          | 0/12946416 [00:00<?, ?it/s]"
      ]
     },
     "metadata": {},
     "output_type": "display_data"
    },
    {
     "name": "stdout",
     "output_type": "stream",
     "text": [
      "\n",
      "Overall sequence similarity: 22.65%\n"
     ]
    }
   ],
   "source": [
    "from Similarity_fast import calculate_protein_similarity_parallel\n",
    "\n",
    "protein_file = \"/files/private/notebooks/GANs/WUGAN/campr4/valid_sequences_proteins.fasta\"\n",
    "\n",
    "similarity = calculate_protein_similarity_parallel(protein_file)"
   ]
  },
  {
   "cell_type": "code",
   "execution_count": 9,
   "id": "f17a47b7",
   "metadata": {},
   "outputs": [
    {
     "ename": "FileNotFoundError",
     "evalue": "[Errno 2] No such file or directory: 'C:\\\\Users\\\\kotsgeo\\\\Documents\\\\GANs\\\\Old\\\\campr4\\\\valid_sequences_proteins.fasta'",
     "output_type": "error",
     "traceback": [
      "\u001b[0;31m---------------------------------------------------------------------------\u001b[0m",
      "\u001b[0;31mFileNotFoundError\u001b[0m                         Traceback (most recent call last)",
      "Cell \u001b[0;32mIn[9], line 5\u001b[0m\n\u001b[1;32m      1\u001b[0m \u001b[38;5;28;01mfrom\u001b[39;00m\u001b[38;5;250m \u001b[39m\u001b[38;5;21;01mSimilarity\u001b[39;00m\u001b[38;5;250m \u001b[39m\u001b[38;5;28;01mimport\u001b[39;00m calculate_protein_similarity\n\u001b[1;32m      3\u001b[0m protein_file \u001b[38;5;241m=\u001b[39m \u001b[38;5;124mr\u001b[39m\u001b[38;5;124m\"\u001b[39m\u001b[38;5;124mC:\u001b[39m\u001b[38;5;124m\\\u001b[39m\u001b[38;5;124mUsers\u001b[39m\u001b[38;5;124m\\\u001b[39m\u001b[38;5;124mkotsgeo\u001b[39m\u001b[38;5;124m\\\u001b[39m\u001b[38;5;124mDocuments\u001b[39m\u001b[38;5;124m\\\u001b[39m\u001b[38;5;124mGANs\u001b[39m\u001b[38;5;124m\\\u001b[39m\u001b[38;5;124mOld\u001b[39m\u001b[38;5;124m\\\u001b[39m\u001b[38;5;124mcampr4\u001b[39m\u001b[38;5;124m\\\u001b[39m\u001b[38;5;124mvalid_sequences_proteins.fasta\u001b[39m\u001b[38;5;124m\"\u001b[39m\n\u001b[0;32m----> 5\u001b[0m similarity \u001b[38;5;241m=\u001b[39m \u001b[43mcalculate_protein_similarity\u001b[49m\u001b[43m(\u001b[49m\u001b[43mprotein_file\u001b[49m\u001b[43m)\u001b[49m\n",
      "File \u001b[0;32m/files/private/notebooks/GANs/WUGAN/Similarity.py:17\u001b[0m, in \u001b[0;36mcalculate_protein_similarity\u001b[0;34m(fasta_file)\u001b[0m\n\u001b[1;32m     15\u001b[0m \u001b[38;5;66;03m# Read sequences from FASTA file\u001b[39;00m\n\u001b[1;32m     16\u001b[0m sequences \u001b[38;5;241m=\u001b[39m []\n\u001b[0;32m---> 17\u001b[0m \u001b[38;5;28;01mwith\u001b[39;00m \u001b[38;5;28;43mopen\u001b[39;49m\u001b[43m(\u001b[49m\u001b[43mfasta_file\u001b[49m\u001b[43m,\u001b[49m\u001b[43m \u001b[49m\u001b[38;5;124;43m'\u001b[39;49m\u001b[38;5;124;43mr\u001b[39;49m\u001b[38;5;124;43m'\u001b[39;49m\u001b[43m)\u001b[49m \u001b[38;5;28;01mas\u001b[39;00m file:\n\u001b[1;32m     18\u001b[0m     current_seq \u001b[38;5;241m=\u001b[39m \u001b[38;5;124m'\u001b[39m\u001b[38;5;124m'\u001b[39m\n\u001b[1;32m     19\u001b[0m     \u001b[38;5;28;01mfor\u001b[39;00m line \u001b[38;5;129;01min\u001b[39;00m file:\n",
      "\u001b[0;31mFileNotFoundError\u001b[0m: [Errno 2] No such file or directory: 'C:\\\\Users\\\\kotsgeo\\\\Documents\\\\GANs\\\\Old\\\\campr4\\\\valid_sequences_proteins.fasta'"
     ]
    }
   ],
   "source": [
    "from Similarity import calculate_protein_similarity\n",
    "\n",
    "protein_file = r\"C:\\Users\\kotsgeo\\Documents\\GANs\\Old\\campr4\\valid_sequences_proteins.fasta\"\n",
    "\n",
    "similarity = calculate_protein_similarity(protein_file)"
   ]
  },
  {
   "cell_type": "code",
   "execution_count": 2,
   "id": "cd8ee779",
   "metadata": {},
   "outputs": [
    {
     "name": "stdout",
     "output_type": "stream",
     "text": [
      "Comparing 4828 original sequences with 5256 generated sequences...\n"
     ]
    },
    {
     "name": "stderr",
     "output_type": "stream",
     "text": [
      "100%|██████████| 4828/4828 [2:00:17<00:00,  1.49s/it]  "
     ]
    },
    {
     "name": "stdout",
     "output_type": "stream",
     "text": [
      "\n",
      "Overall sequence similarity: 48.43%\n"
     ]
    },
    {
     "name": "stderr",
     "output_type": "stream",
     "text": [
      "\n"
     ]
    }
   ],
   "source": [
    "from Similarity import calculate_similarity_between_dna\n",
    "\n",
    "original_dataset_path = r\"C:\\Users\\kotsgeo\\Documents\\GANs\\all_amp.fasta\"\n",
    "valid_sequences_path = r\"C:\\Users\\kotsgeo\\Documents\\GANs\\Old\\campr4\\valid_sequences.fasta\"\n",
    "\n",
    "similarity = calculate_similarity_between_dna(original_dataset_path, valid_sequences_path)"
   ]
  },
  {
   "cell_type": "code",
   "execution_count": null,
   "id": "2c424975",
   "metadata": {},
   "outputs": [
    {
     "name": "stdout",
     "output_type": "stream",
     "text": [
      "\n",
      "DNA file: C:\\Users\\kotsgeo\\Documents\\GANs\\Old\\campr4\\valid_sequences.fasta\n",
      "Protein file: C:\\Users\\kotsgeo\\Documents\\GANs\\Old\\campr4\\valid_sequences_proteins.fasta\n",
      "\n",
      "============================================================\n",
      "CALCULATING JSD SCORE\n",
      "============================================================\n",
      "Loaded 5310 generated sequences from C:\\Users\\kotsgeo\\Documents\\GANs\\Old\\campr4\\valid_sequences.fasta\n",
      "Loaded 2600 reference sequences from C:\\Users\\kotsgeo\\Documents\\GANs\\Old\\AMPdata.txt\n",
      "JSD for k=3: 0.0622\n",
      "JSD for k=4: 0.0893\n",
      "JSD for k=5: 0.1205\n",
      "JSD for k=6: 0.1562\n",
      "\n",
      "Average JSD: 0.1071\n",
      "\n",
      "============================================================\n",
      "CALCULATING AMP SCORE\n",
      "============================================================\n",
      "Loaded 5157 protein sequences from C:\\Users\\kotsgeo\\Documents\\GANs\\Old\\campr4\\valid_sequences_proteins.fasta\n",
      "\n",
      "Overall AMP Score: 86.81%\n",
      "Perfect AMP candidates: 2370/5157 (45.96%)\n",
      "Criteria scores:\n",
      "  length: 100.00%\n",
      "  charge: 84.66%\n",
      "  hydrophobicity: 85.29%\n",
      "  kr_content: 77.30%\n",
      "\n",
      "============================================================\n",
      "SAVING EVALUATION RESULTS\n",
      "============================================================\n",
      "Evaluation results saved to: C:\\Users\\kotsgeo\\Documents\\GANs\\Old\\campr4\\evaluation_metrics.txt\n",
      "\n",
      "============================================================\n",
      "FINAL SUMMARY\n",
      "============================================================\n",
      "Generated sequences: 5310\n",
      "Valid proteins: 5157\n",
      "JSD Score: 0.1071\n",
      "AMP Score: 86.81%\n"
     ]
    }
   ],
   "source": [
    "# ============= ADD EVALUATION HERE =============\n",
    "\n",
    "# Import necessary functions\n",
    "from Bio import SeqIO\n",
    "import numpy as np\n",
    "from collections import Counter\n",
    "from scipy.spatial.distance import jensenshannon\n",
    "from itertools import product\n",
    "from amp_evaluator import calculate_peptide_properties, score_peptide\n",
    "\n",
    "# Verify the file paths\n",
    "print(f\"\\nDNA file: {dna_file}\")\n",
    "print(f\"Protein file: {protein_file}\")\n",
    "\n",
    "# 1. Calculate JSD Score\n",
    "print(\"\\n\" + \"=\"*60)\n",
    "print(\"CALCULATING JSD SCORE\")\n",
    "print(\"=\"*60)\n",
    "\n",
    "# Path to reference sequences\n",
    "REFERENCE_FASTA = r\"C:\\Users\\kotsgeo\\Documents\\GANs\\Old\\AMPdata.txt\"  # Your amp.txt file\n",
    "\n",
    "# Load generated sequences from FASTA\n",
    "gen_sequences = []\n",
    "for record in SeqIO.parse(dna_file, \"fasta\"):\n",
    "    gen_sequences.append(str(record.seq))\n",
    "\n",
    "# Load reference sequences from tab-delimited format\n",
    "ref_sequences = []\n",
    "try:\n",
    "    with open(REFERENCE_FASTA, 'r') as f:\n",
    "        for line in f:\n",
    "            line = line.strip()\n",
    "            if line:\n",
    "                # Split by tab to get sequence and label\n",
    "                parts = line.split('\\t')\n",
    "                if len(parts) >= 1:\n",
    "                    seq = parts[0].strip().upper()\n",
    "                    # Verify it's a valid DNA sequence\n",
    "                    if all(base in 'ATCG' for base in seq):\n",
    "                        ref_sequences.append(seq)\n",
    "    \n",
    "    print(f\"Loaded {len(gen_sequences)} generated sequences from {dna_file}\")\n",
    "    print(f\"Loaded {len(ref_sequences)} reference sequences from {REFERENCE_FASTA}\")\n",
    "except Exception as e:\n",
    "    print(f\"Error loading reference sequences: {e}\")\n",
    "    ref_sequences = None\n",
    "\n",
    "# Calculate JSD only if reference sequences are available\n",
    "if ref_sequences and len(ref_sequences) > 0:\n",
    "    # Calculate k-mer distributions and JSD\n",
    "    def get_kmer_distribution_from_strings(seqs, k=6):\n",
    "        all_kmers = [''.join(p) for p in product('ACGT', repeat=k)]\n",
    "        kmer_counts = Counter()\n",
    "        for seq in seqs:\n",
    "            for i in range(len(seq) - k + 1):\n",
    "                kmer = seq[i:i+k]\n",
    "                if all(base in 'ACGT' for base in kmer):\n",
    "                    kmer_counts[kmer] += 1\n",
    "        total = sum(kmer_counts.values())\n",
    "        freq = np.array([kmer_counts[kmer] for kmer in all_kmers], dtype=np.float32)\n",
    "        return freq / (total + 1e-8)\n",
    "\n",
    "    k_values = [3, 4, 5, 6]\n",
    "    jsds = []\n",
    "    for k in k_values:\n",
    "        ref_dist = get_kmer_distribution_from_strings(ref_sequences, k=k)\n",
    "        gen_dist = get_kmer_distribution_from_strings(gen_sequences, k=k)\n",
    "        jsd_k = jensenshannon(ref_dist, gen_dist)\n",
    "        jsds.append(jsd_k)\n",
    "        print(f\"JSD for k={k}: {jsd_k:.4f}\")\n",
    "\n",
    "    avg_jsd = np.mean(jsds)\n",
    "    print(f\"\\nAverage JSD: {avg_jsd:.4f}\")\n",
    "else:\n",
    "    avg_jsd = None\n",
    "    jsds = None\n",
    "    print(\"No reference sequences loaded for JSD calculation\")\n",
    "\n",
    "# 2. Calculate AMP Score\n",
    "print(\"\\n\" + \"=\"*60)\n",
    "print(\"CALCULATING AMP SCORE\")\n",
    "print(\"=\"*60)\n",
    "\n",
    "# Load protein sequences from FASTA\n",
    "proteins = []\n",
    "for record in SeqIO.parse(protein_file, \"fasta\"):\n",
    "    proteins.append(str(record.seq))\n",
    "\n",
    "print(f\"Loaded {len(proteins)} protein sequences from {protein_file}\")\n",
    "\n",
    "# Evaluate AMP properties\n",
    "valid_sequences = 0\n",
    "passed_all_criteria = 0\n",
    "criteria_scores = {'length': 0, 'charge': 0, 'hydrophobicity': 0, 'kr_content': 0}\n",
    "\n",
    "for protein in proteins:\n",
    "    if len(protein) < 8:\n",
    "        continue\n",
    "        \n",
    "    properties = calculate_peptide_properties(protein)\n",
    "    if properties is None:\n",
    "        continue\n",
    "        \n",
    "    valid_sequences += 1\n",
    "    scores = score_peptide(properties)\n",
    "    \n",
    "    for criterion, score in scores.items():\n",
    "        criteria_scores[criterion] += score\n",
    "        \n",
    "    if all(score >= 1.0 for score in scores.values()):\n",
    "        passed_all_criteria += 1\n",
    "\n",
    "# Calculate final AMP score\n",
    "if valid_sequences > 0:\n",
    "    for criterion in criteria_scores:\n",
    "        criteria_scores[criterion] = (criteria_scores[criterion] / valid_sequences) * 100\n",
    "    overall_amp_score = np.mean(list(criteria_scores.values()))\n",
    "else:\n",
    "    overall_amp_score = 0.0\n",
    "\n",
    "print(f\"\\nOverall AMP Score: {overall_amp_score:.2f}%\")\n",
    "print(f\"Perfect AMP candidates: {passed_all_criteria}/{len(proteins)} ({(passed_all_criteria/len(proteins)*100 if len(proteins) > 0 else 0):.2f}%)\")\n",
    "print(f\"Criteria scores:\")\n",
    "for criterion, score in criteria_scores.items():\n",
    "    print(f\"  {criterion}: {score:.2f}%\")\n",
    "\n",
    "# 3. Save evaluation results\n",
    "print(\"\\n\" + \"=\"*60)\n",
    "print(\"SAVING EVALUATION RESULTS\")\n",
    "print(\"=\"*60)\n",
    "\n",
    "import os\n",
    "evaluation_file = os.path.join(os.path.dirname(dna_file), \"evaluation_metrics.txt\")\n",
    "\n",
    "with open(evaluation_file, 'w') as f:\n",
    "    f.write(\"SEQUENCE GENERATION EVALUATION METRICS\\n\")\n",
    "    f.write(\"=\"*60 + \"\\n\\n\")\n",
    "    \n",
    "    f.write(f\"Model: {saved_model_path}\\n\")\n",
    "    f.write(f\"Generated sequences: {len(sequences)}\\n\")\n",
    "    f.write(f\"Valid proteins: {num_proteins}\\n\\n\")\n",
    "    \n",
    "    if avg_jsd is not None:\n",
    "        f.write(\"JSD Analysis:\\n\")\n",
    "        f.write(f\"Reference file: {REFERENCE_FASTA}\\n\")\n",
    "        f.write(f\"Average JSD: {avg_jsd:.4f}\\n\")\n",
    "        for k, jsd in zip(k_values, jsds):\n",
    "            f.write(f\"  k={k}: {jsd:.4f}\\n\")\n",
    "    else:\n",
    "        f.write(\"JSD Analysis: Not performed (no reference sequences)\\n\")\n",
    "    \n",
    "    f.write(f\"\\nAMP Analysis:\\n\")\n",
    "    f.write(f\"Overall AMP Score: {overall_amp_score:.2f}%\\n\")\n",
    "    f.write(f\"Perfect AMP candidates: {passed_all_criteria}/{len(proteins)} ({(passed_all_criteria/len(proteins)*100 if len(proteins) > 0 else 0):.2f}%)\\n\")\n",
    "    f.write(f\"Criteria scores:\\n\")\n",
    "    for criterion, score in criteria_scores.items():\n",
    "        f.write(f\"  {criterion}: {score:.2f}%\\n\")\n",
    "\n",
    "print(f\"Evaluation results saved to: {evaluation_file}\")\n",
    "\n",
    "# Print summary\n",
    "print(\"\\n\" + \"=\"*60)\n",
    "print(\"FINAL SUMMARY\")\n",
    "print(\"=\"*60)\n",
    "print(f\"Generated sequences: {len(sequences)}\")\n",
    "print(f\"Valid proteins: {num_proteins}\")\n",
    "if avg_jsd is not None:\n",
    "    print(f\"JSD Score: {avg_jsd:.4f}\")\n",
    "else:\n",
    "    print(f\"JSD Score: Not calculated\")\n",
    "print(f\"AMP Score: {overall_amp_score:.2f}%\")"
   ]
  }
 ],
 "metadata": {
  "kernelspec": {
   "display_name": "Python 3 (ipykernel)",
   "language": "python",
   "name": "python3"
  },
  "language_info": {
   "codemirror_mode": {
    "name": "ipython",
    "version": 3
   },
   "file_extension": ".py",
   "mimetype": "text/x-python",
   "name": "python",
   "nbconvert_exporter": "python",
   "pygments_lexer": "ipython3",
   "version": "3.12.9"
  }
 },
 "nbformat": 4,
 "nbformat_minor": 5
}
