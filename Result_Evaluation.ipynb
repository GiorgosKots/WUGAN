{
 "cells": [
  {
   "cell_type": "code",
   "execution_count": null,
   "id": "adee22b3-f691-4117-8157-02fd89304e10",
   "metadata": {},
   "outputs": [],
   "source": [
    "!pip install biopython tqdm-joblib"
   ]
  },
  {
   "cell_type": "code",
   "execution_count": null,
   "id": "a226b729",
   "metadata": {},
   "outputs": [],
   "source": [
    "import torch\n",
    "from sequence_generator import generate_and_filter_sequences, convert_dna_fasta_to_protein\n",
    "from models import Generator_lang\n",
    "\n",
    "device = 'cuda' if torch.cuda.is_available() else 'cpu'\n",
    "print(f\"Using device: {device}\")\n",
    "\n",
    "n_chars = 5                                                                                 \n",
    "seq_len = 156\n",
    "batch_size = 64\n",
    "hidden_g = 192\n",
    "\n",
    "# Initialize models\n",
    "generator = Generator_lang(n_chars, seq_len, batch_size, hidden_g).to(device)\n",
    "\n",
    "saved_model_path = r\"filepath\" # add your best epoch from every evalutation metric you want from saved_model folder\n",
    "\n",
    "checkpoint = torch.load(saved_model_path, map_location=device) \n",
    "\n",
    "generator.load_state_dict(checkpoint['model_state_dict'])  \n",
    "generator.eval()\n",
    "\n",
    "sequences, analysis, dna_file = generate_and_filter_sequences(\n",
    "        generator=generator,\n",
    "        num_samples=11270-8*640, # customize it so the generetor will create near to 5000 peptides\n",
    "        count_atg=False, # if you want to keep only the peptides that starts with methionine\n",
    "        add_atg=False # if you want your peptides to start with methionine\n",
    "   )\n",
    "\n",
    "# Generate sequences and convert to proteins in one go\n",
    "num_proteins, protein_file = convert_dna_fasta_to_protein(input_fasta=dna_file, add_atg=False)"
   ]
  },
  {
   "cell_type": "code",
   "execution_count": null,
   "id": "8e844e68-9789-4a76-9d0e-f4cb8dde6827",
   "metadata": {},
   "outputs": [],
   "source": [
    "from analyze_amp_probabilities import calculate_averages\n",
    "\n",
    "\"\"\"\n",
    "Add in campr4 tool the valid_sequences_proteins.fasta from \n",
    "campr4 folder and download from campr4 the 3 files (rf, svm, ann)\n",
    "\"\"\"\n",
    "\n",
    "rf_file_path = \"rf_file_path\"\n",
    "svm_file_path = \"svm_file_path\"\n",
    "ann_file_path = \"ann_file_path\"\n",
    "\n",
    "# Actual usage example\n",
    "files = [\n",
    "    rf_file_path,\n",
    "    svm_file_path,\n",
    "    ann_file_path\n",
    "]\n",
    "\n",
    "model_types = [\n",
    "\"Random Forest\",\n",
    "\"SVM\",\n",
    "\"ANN\"\n",
    "]\n",
    "\n",
    "calculate_averages(files, model_types)"
   ]
  },
  {
   "cell_type": "code",
   "execution_count": null,
   "id": "f17a47b7",
   "metadata": {},
   "outputs": [],
   "source": [
    "from Similarity import calculate_protein_similarity\n",
    "\n",
    "protein_file = \"valid_sequences_proteins.fasta\" # add your path\n",
    "\n",
    "similarity = calculate_protein_similarity(protein_file)"
   ]
  },
  {
   "cell_type": "code",
   "execution_count": null,
   "id": "cb47a10d",
   "metadata": {},
   "outputs": [],
   "source": [
    "from Similarity_fast import calculate_protein_similarity_parallel\n",
    "\n",
    "\"\"\"\n",
    "If you want to run parallel and quicker\n",
    "\"\"\"\n",
    "\n",
    "protein_file = \"valid_sequences_proteins.fasta\" # add your path\n",
    "\n",
    "similarity = calculate_protein_similarity_parallel(protein_file)"
   ]
  },
  {
   "cell_type": "code",
   "execution_count": null,
   "id": "cd8ee779",
   "metadata": {},
   "outputs": [],
   "source": [
    "from Similarity import calculate_similarity_between_dna\n",
    "\n",
    "\"\"\"\n",
    "Similarity between original and generated peptides\n",
    "\"\"\"\n",
    "\n",
    "original_dataset_path = r\"all_amp.fasta\" # add your path\n",
    "valid_sequences_path = r\"valid_sequences.fasta\" # add your path\n",
    "\n",
    "similarity = calculate_similarity_between_dna(original_dataset_path, valid_sequences_path)"
   ]
  }
 ],
 "metadata": {
  "kernelspec": {
   "display_name": "Python 3 (ipykernel)",
   "language": "python",
   "name": "python3"
  },
  "language_info": {
   "codemirror_mode": {
    "name": "ipython",
    "version": 3
   },
   "file_extension": ".py",
   "mimetype": "text/x-python",
   "name": "python",
   "nbconvert_exporter": "python",
   "pygments_lexer": "ipython3",
   "version": "3.12.9"
  }
 },
 "nbformat": 4,
 "nbformat_minor": 5
}
