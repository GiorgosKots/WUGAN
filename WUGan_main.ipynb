{
 "cells": [
  {
   "cell_type": "code",
   "execution_count": 1,
   "metadata": {
    "id": "XgE5GbYVT5PC"
   },
   "outputs": [],
   "source": [
    "import torch\n",
    "import torch.nn as nn\n",
    "import torch.optim as optim\n",
    "from torch.autograd import grad\n",
    "import torch.nn.functional as F\n",
    "from torch.utils import *\n",
    "from torch.utils.data import DataLoader\n",
    "from torch.nn.functional import gumbel_softmax\n",
    "import matplotlib.pyplot as plt\n",
    "import os\n",
    "import time\n",
    "from plot_metrics import plot_metrics"
   ]
  },
  {
   "cell_type": "code",
   "execution_count": 2,
   "metadata": {},
   "outputs": [
    {
     "name": "stdout",
     "output_type": "stream",
     "text": [
      "Batch shape: torch.Size([64, 156, 5])\n",
      "Number of batches: 75\n"
     ]
    }
   ],
   "source": [
    "from total_amp_encoder import AMPSequenceDataset\n",
    "\n",
    "if __name__ == \"__main__\":\n",
    "    file_path = \"/files/private/notebooks/GANs/WUGAN/all_amp.fasta\"\n",
    "    dataset = AMPSequenceDataset(file_path)\n",
    "    \n",
    "    # Create dataloader for training\n",
    "    dataloader = DataLoader(dataset, batch_size=64, shuffle=True, drop_last=True)\n",
    "    \n",
    "    # Quick test\n",
    "    for batch in dataloader:\n",
    "        print(\"Batch shape:\", batch.shape)\n",
    "        print(\"Number of batches:\", (len(dataloader)))\n",
    "        break"
   ]
  },
  {
   "cell_type": "code",
   "execution_count": 3,
   "metadata": {},
   "outputs": [
    {
     "name": "stdout",
     "output_type": "stream",
     "text": [
      "cuda\n"
     ]
    }
   ],
   "source": [
    "from models import Generator_lang, UNetDiscriminator\n",
    "\n",
    "device = torch.device(\"cuda\" if torch.cuda.is_available() else \"cpu\")\n",
    "print(device)\n",
    "\n",
    "# Define results directory with absolute path\n",
    "results_dir = \"/files/private/notebooks/GANs/WUGAN\"\n",
    "\n",
    "# Create model directories\n",
    "model_save_dir = os.path.join(results_dir, 'saved_models')\n",
    "jsd_models_dir = os.path.join(model_save_dir, 'best_jsd')\n",
    "orf_models_dir = os.path.join(model_save_dir, 'best_orf')\n",
    "amp_models_dir = os.path.join(model_save_dir, 'best_amp')\n",
    "\n",
    "# Create directories if they don't exist\n",
    "os.makedirs(jsd_models_dir, exist_ok=True)\n",
    "os.makedirs(orf_models_dir, exist_ok=True)\n",
    "os.makedirs(amp_models_dir, exist_ok=True)\n",
    "\n",
    "############################## DEFINE #######################################################\n",
    "# Parameters                                                                                \n",
    "n_chars = 5                                                                                 \n",
    "seq_len = 156\n",
    "batch_size = 64\n",
    "hidden_g = 192\n",
    "hidden_d = 128\n",
    "num_epochs = 250\n",
    "lambda_gp = 10  # Gradient penalty coefficient\n",
    "d_step = 5\n",
    "g_step = 2\n",
    "lambda_dec = 0.4\n",
    "lambda_mix = 1\n",
    "scale = 1\n",
    "\n",
    "# Initialize models\n",
    "generator = Generator_lang(n_chars, seq_len, batch_size, hidden_g).to(device)\n",
    "discriminator = UNetDiscriminator(n_chars, seq_len, hidden_d).to(device)\n",
    "\n",
    "# Optimizers\n",
    "d_optimizer = torch.optim.Adam(discriminator.parameters(), lr=0.00005, betas=(0.9, 0.999), weight_decay=1e-5)\n",
    "g_optimizer = torch.optim.Adam(generator.parameters(), lr=0.0001, betas=(0.9, 0.999), weight_decay=1e-5)\n",
    "\n",
    "d_scheduler = torch.optim.lr_scheduler.ExponentialLR(d_optimizer, gamma=0.99)\n",
    "g_scheduler = torch.optim.lr_scheduler.ExponentialLR(g_optimizer, gamma=0.99)\n",
    "#############################################################################################"
   ]
  },
  {
   "cell_type": "code",
   "execution_count": null,
   "metadata": {
    "scrolled": true
   },
   "outputs": [
    {
     "name": "stderr",
     "output_type": "stream",
     "text": [
      "/opt/conda/lib/python3.12/site-packages/torch/autograd/graph.py:823: UserWarning: Attempting to run cuBLAS, but there was no current CUDA context! Attempting to set the primary context... (Triggered internally at /pytorch/aten/src/ATen/cuda/CublasHandlePool.cpp:180.)\n",
      "  return Variable._execution_engine.run_backward(  # Calls into the C++ engine to run the backward pass\n"
     ]
    },
    {
     "name": "stdout",
     "output_type": "stream",
     "text": [
      "Batch [1/75]\n",
      "D_total_loss: 10.0182\n",
      "Wasserstein Loss: -0.0146\n",
      "Gradient Penalty: 9.7486\n",
      "Decoder Loss: 0.7106\n",
      "G_total_loss: 0.3246\n",
      "G_loss: -0.0260\n",
      "Pixel Loss: 0.8767\n",
      "\n",
      "Batch [42/75]\n",
      "D_total_loss: -9.5557\n",
      "Wasserstein Loss: -11.6272\n",
      "Gradient Penalty: 1.7893\n",
      "Decoder Loss: 0.7054\n",
      "G_total_loss: 1.0449\n",
      "G_loss: 0.6950\n",
      "Pixel Loss: 0.8749\n",
      "\n",
      "Epoch [1/250] - Epoch Time: 70.59s - Total Time: 00:01:10\n",
      "D_total_loss: -7.6749\n",
      "Wasserstein Loss: -10.1830\n",
      "Gradient Penalty: 2.2253\n",
      "Decoder Loss: 0.7072\n",
      "G_total_loss: 0.6831\n",
      "G_loss: 0.3331\n",
      "Pixel Loss: 0.8749\n",
      "\n",
      "Latest JSD Score: 0.1673\n",
      "AMP Score: 31.56%\n",
      "--------------------------------------------------\n",
      "Batch [1/75]\n",
      "D_total_loss: -9.7905\n",
      "Wasserstein Loss: -11.9419\n",
      "Gradient Penalty: 1.8697\n",
      "Decoder Loss: 0.7041\n",
      "G_total_loss: 0.0770\n",
      "G_loss: -0.2721\n",
      "Pixel Loss: 0.8728\n",
      "\n",
      "Batch [42/75]\n",
      "D_total_loss: -9.9860\n",
      "Wasserstein Loss: -12.2327\n",
      "Gradient Penalty: 1.9635\n",
      "Decoder Loss: 0.7081\n",
      "G_total_loss: 0.1342\n",
      "G_loss: -0.2136\n",
      "Pixel Loss: 0.8694\n",
      "\n",
      "Epoch [2/250] - Epoch Time: 69.98s - Total Time: 00:02:21\n",
      "D_total_loss: -9.5247\n",
      "Wasserstein Loss: -11.6663\n",
      "Gradient Penalty: 1.8591\n",
      "Decoder Loss: 0.7062\n",
      "G_total_loss: 0.5814\n",
      "G_loss: 0.2335\n",
      "Pixel Loss: 0.8697\n",
      "\n",
      "Latest JSD Score: 0.1778\n",
      "AMP Score: 29.38%\n",
      "--------------------------------------------------\n",
      "Batch [1/75]\n",
      "D_total_loss: -5.9674\n",
      "Wasserstein Loss: -7.2885\n",
      "Gradient Penalty: 1.0383\n",
      "Decoder Loss: 0.7070\n",
      "G_total_loss: -3.5758\n",
      "G_loss: -3.9224\n",
      "Pixel Loss: 0.8665\n",
      "\n",
      "Batch [42/75]\n",
      "D_total_loss: -4.5632\n",
      "Wasserstein Loss: -5.6135\n",
      "Gradient Penalty: 0.7678\n",
      "Decoder Loss: 0.7060\n",
      "G_total_loss: 2.4042\n",
      "G_loss: 2.0595\n",
      "Pixel Loss: 0.8619\n",
      "\n",
      "Epoch [3/250] - Epoch Time: 70.03s - Total Time: 00:03:31\n",
      "D_total_loss: -3.9158\n",
      "Wasserstein Loss: -4.8418\n",
      "Gradient Penalty: 0.6438\n",
      "Decoder Loss: 0.7055\n",
      "G_total_loss: -4.6738\n",
      "G_loss: -5.0187\n",
      "Pixel Loss: 0.8622\n",
      "\n",
      "Latest JSD Score: 0.3229\n",
      "AMP Score: 22.50%\n",
      "--------------------------------------------------\n",
      "Batch [1/75]\n",
      "D_total_loss: -3.3419\n",
      "Wasserstein Loss: -4.0584\n",
      "Gradient Penalty: 0.4347\n",
      "Decoder Loss: 0.7044\n",
      "G_total_loss: -6.8640\n",
      "G_loss: -7.2069\n",
      "Pixel Loss: 0.8573\n",
      "\n",
      "Batch [42/75]\n",
      "D_total_loss: -5.3548\n",
      "Wasserstein Loss: -6.5158\n",
      "Gradient Penalty: 0.8797\n",
      "Decoder Loss: 0.7033\n",
      "G_total_loss: -3.9472\n",
      "G_loss: -4.2877\n",
      "Pixel Loss: 0.8512\n",
      "\n"
     ]
    }
   ],
   "source": [
    "from wugan_train import train\n",
    "\n",
    "# --- Run Training ---\n",
    "iteration_losses, total_iterations, jsd_history, amp_history = train(\n",
    "    generator=generator,\n",
    "    discriminator=discriminator,\n",
    "    dataloader=dataloader,\n",
    "    num_epochs=num_epochs,\n",
    "    n_chars=n_chars,\n",
    "    device=device,\n",
    "    results_dir=results_dir,\n",
    "    d_optimizer=d_optimizer,\n",
    "    g_optimizer=g_optimizer,\n",
    "    d_scheduler=d_scheduler,\n",
    "    g_scheduler=g_scheduler,\n",
    "    lambda_mix=lambda_mix,\n",
    "    lambda_dec=lambda_dec,\n",
    "    scale=scale\n",
    ")\n",
    "\n",
    "# Plot JSD and AMP\n",
    "plot_metrics(iteration_losses, total_iterations, num_epochs, len(dataloader),\n",
    "             jsd_history=jsd_history, amp_history=amp_history,\n",
    "             plot_jsd=True, plot_fred=False, plot_amp=True)"
   ]
  },
  {
   "cell_type": "code",
   "execution_count": 5,
   "metadata": {},
   "outputs": [
    {
     "name": "stdout",
     "output_type": "stream",
     "text": [
      "Looking in indexes: https://pypi.org/simple, https://pypi.ngc.nvidia.com\n",
      "Requirement already satisfied: biopython in /opt/conda/lib/python3.12/site-packages (1.85)\n",
      "Requirement already satisfied: numpy in /opt/conda/lib/python3.12/site-packages (from biopython) (2.0.2)\n"
     ]
    }
   ],
   "source": [
    "!pip install biopython"
   ]
  },
  {
   "cell_type": "code",
   "execution_count": 6,
   "metadata": {},
   "outputs": [
    {
     "name": "stdout",
     "output_type": "stream",
     "text": [
      "\n",
      "Generation complete!\n",
      "Found 5334 valid sequences out of 6150 generated\n",
      "Sequences saved in: /files/private/notebooks/GANs/WUGAN/campr4/valid_sequences.fasta\n",
      "Analysis saved in: /files/private/notebooks/GANs/WUGAN/campr4/sequence_analysis.txt\n",
      "Converted 5099 DNA sequences to proteins\n",
      "Protein sequences saved in: /files/private/notebooks/GANs/WUGAN/campr4/valid_sequences_proteins.fasta\n"
     ]
    }
   ],
   "source": [
    "from sequence_generator import generate_and_filter_sequences, convert_dna_fasta_to_protein\n",
    "\n",
    "saved_model_path = r\"GANs/WUGAN/saved_models2/best_amp/generator_amp_2_epoch_80_score_48.44.pt\"\n",
    "generator.eval()\n",
    "\n",
    "sequences, analysis, dna_file = generate_and_filter_sequences(\n",
    "    generator, \n",
    "    batch_size=64,\n",
    "    num_samples=11270-8*640,\n",
    "    count_atg=False,\n",
    "    add_atg=False\n",
    ")\n",
    "\n",
    "num_proteins, protein_file = convert_dna_fasta_to_protein(input_fasta=dna_file, add_atg=False)"
   ]
  },
  {
   "cell_type": "code",
   "execution_count": null,
   "metadata": {},
   "outputs": [],
   "source": []
  }
 ],
 "metadata": {
  "accelerator": "GPU",
  "colab": {
   "gpuType": "T4",
   "provenance": []
  },
  "kernelspec": {
   "display_name": "Python 3 (ipykernel)",
   "language": "python",
   "name": "python3"
  },
  "language_info": {
   "codemirror_mode": {
    "name": "ipython",
    "version": 3
   },
   "file_extension": ".py",
   "mimetype": "text/x-python",
   "name": "python",
   "nbconvert_exporter": "python",
   "pygments_lexer": "ipython3",
   "version": "3.12.9"
  }
 },
 "nbformat": 4,
 "nbformat_minor": 4
}
