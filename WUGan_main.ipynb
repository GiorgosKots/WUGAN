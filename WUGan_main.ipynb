{
 "cells": [
  {
   "cell_type": "code",
   "execution_count": 1,
   "metadata": {
    "id": "XgE5GbYVT5PC"
   },
   "outputs": [],
   "source": [
    "import torch\n",
    "import torch.nn as nn\n",
    "import torch.optim as optim\n",
    "from torch.autograd import grad\n",
    "import torch.nn.functional as F\n",
    "from torch.utils import *\n",
    "from torch.utils.data import DataLoader\n",
    "from torch.nn.functional import gumbel_softmax\n",
    "import matplotlib.pyplot as plt\n",
    "import os\n",
    "import time\n",
    "from plot_metrics import plot_metrics"
   ]
  },
  {
   "cell_type": "code",
   "execution_count": null,
   "metadata": {},
   "outputs": [],
   "source": [
    "from total_amp_encoder import AMPSequenceDataset\n",
    "\n",
    "if __name__ == \"__main__\":\n",
    "    file_path = r\"C:\\Users\\kotsgeo\\Documents\\GANs\\all_amp.fasta\"\n",
    "    dataset = AMPSequenceDataset(file_path)\n",
    "    \n",
    "    # Create dataloader for training\n",
    "    dataloader = DataLoader(dataset, batch_size=64, shuffle=True, drop_last=True)\n",
    "    \n",
    "    # Quick test\n",
    "    for batch in dataloader:\n",
    "        print(\"Batch shape:\", batch.shape)\n",
    "        print(\"Number of batches:\", (len(dataloader)))\n",
    "        break"
   ]
  },
  {
   "cell_type": "code",
   "execution_count": null,
   "metadata": {},
   "outputs": [],
   "source": [
    "from models import Generator_lang, UNetDiscriminator\n",
    "\n",
    "device = torch.device(\"cuda\" if torch.cuda.is_available() else \"cpu\")\n",
    "print(device)\n",
    "\n",
    "# Define results directory with absolute path\n",
    "results_dir = r\"C:\\Users\\kotsgeo\\Documents\\GANs\\Old\"\n",
    "\n",
    "# Create model directories\n",
    "model_save_dir = os.path.join(results_dir, 'saved_models')\n",
    "jsd_models_dir = os.path.join(model_save_dir, 'best_jsd')\n",
    "orf_models_dir = os.path.join(model_save_dir, 'best_orf')\n",
    "amp_models_dir = os.path.join(model_save_dir, 'best_amp')\n",
    "\n",
    "# Create directories if they don't exist\n",
    "os.makedirs(jsd_models_dir, exist_ok=True)\n",
    "os.makedirs(orf_models_dir, exist_ok=True)\n",
    "os.makedirs(amp_models_dir, exist_ok=True)\n",
    "\n",
    "############################## DEFINE #######################################################\n",
    "# Parameters                                                                                \n",
    "n_chars = 5                                                                                 \n",
    "seq_len = 156\n",
    "batch_size = 64\n",
    "batch_eval = 256 # must be multiplier of batch_size\n",
    "hidden_g = 192\n",
    "hidden_d = 128\n",
    "num_epochs = 250\n",
    "lambda_gp = 10  # Gradient penalty coefficient\n",
    "d_step = 5\n",
    "g_step = 2\n",
    "lambda_dec = 0.1\n",
    "lambda_pixel = 0.5\n",
    "lambda_mix = 1\n",
    "scale = 1\n",
    "\n",
    "# Initialize models\n",
    "generator = Generator_lang(n_chars, seq_len, batch_size, hidden_g).to(device)\n",
    "discriminator = UNetDiscriminator(n_chars, seq_len, hidden_d).to(device)\n",
    "\n",
    "# Optimizers\n",
    "d_optimizer = torch.optim.Adam(discriminator.parameters(), lr=0.00005, betas=(0.9, 0.999), weight_decay=1e-5)\n",
    "g_optimizer = torch.optim.Adam(generator.parameters(), lr=0.0001, betas=(0.9, 0.999), weight_decay=1e-5)\n",
    "\n",
    "d_scheduler = torch.optim.lr_scheduler.ExponentialLR(d_optimizer, gamma=0.99)\n",
    "g_scheduler = torch.optim.lr_scheduler.ExponentialLR(g_optimizer, gamma=0.99)\n",
    "#############################################################################################"
   ]
  },
  {
   "cell_type": "code",
   "execution_count": null,
   "metadata": {
    "scrolled": true
   },
   "outputs": [],
   "source": [
    "from wugan_train import train\n",
    "\n",
    "# --- Run Training ---\n",
    "iteration_losses, total_iterations, jsd_history, amp_history = train(\n",
    "    generator=generator,\n",
    "    discriminator=discriminator,\n",
    "    dataloader=dataloader,\n",
    "    batch_eval = batch_eval,\n",
    "    num_epochs=num_epochs,\n",
    "    n_chars=n_chars,\n",
    "    device=device,\n",
    "    results_dir=results_dir,\n",
    "    d_optimizer=d_optimizer,\n",
    "    g_optimizer=g_optimizer,\n",
    "    d_scheduler=d_scheduler,\n",
    "    g_scheduler=g_scheduler,\n",
    "    lambda_mix=lambda_mix,\n",
    "    lambda_dec=lambda_dec,\n",
    "    lambda_pixel=lambda_pixel,\n",
    "    scale=scale\n",
    ")\n",
    "\n",
    "# Plot JSD and AMP\n",
    "plot_metrics(iteration_losses, total_iterations, num_epochs, len(dataloader),\n",
    "             jsd_history=jsd_history, amp_history=amp_history,\n",
    "             plot_jsd=True, plot_fred=False, plot_amp=True)"
   ]
  }
 ],
 "metadata": {
  "accelerator": "GPU",
  "colab": {
   "gpuType": "T4",
   "provenance": []
  },
  "kernelspec": {
   "display_name": "myenv",
   "language": "python",
   "name": "python3"
  },
  "language_info": {
   "codemirror_mode": {
    "name": "ipython",
    "version": 3
   },
   "file_extension": ".py",
   "mimetype": "text/x-python",
   "name": "python",
   "nbconvert_exporter": "python",
   "pygments_lexer": "ipython3",
   "version": "3.9.21"
  }
 },
 "nbformat": 4,
 "nbformat_minor": 4
}
